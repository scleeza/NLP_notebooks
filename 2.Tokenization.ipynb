{
 "cells": [
  {
   "cell_type": "markdown",
   "metadata": {},
   "source": [
    "# LDA"
   ]
  },
  {
   "cell_type": "markdown",
   "metadata": {},
   "source": [
    "1. Using spacy to tokenize the docs\n",
    "2. Considering bigrams\n",
    "3. Creating word dictionary from tokens"
   ]
  },
  {
   "cell_type": "code",
   "execution_count": 62,
   "metadata": {},
   "outputs": [],
   "source": [
    "import os\n",
    "import PyPDF2\n",
    "import pandas as pd\n",
    "import numpy as np\n",
    "import spacy\n",
    "import gensim\n",
    "import matplotlib.pyplot as plt\n",
    "import seaborn as sns\n",
    "import pickle\n",
    "%matplotlib inline"
   ]
  },
  {
   "cell_type": "code",
   "execution_count": 59,
   "metadata": {},
   "outputs": [
    {
     "data": {
      "text/plain": [
       "<spacy.lang.en.English at 0x7f9babb1d910>"
      ]
     },
     "execution_count": 59,
     "metadata": {},
     "output_type": "execute_result"
    }
   ],
   "source": [
    "# Load english model: https://spacy.io/models\n",
    "nlp = spacy.load('en')\n",
    "nlp"
   ]
  },
  {
   "cell_type": "code",
   "execution_count": 256,
   "metadata": {},
   "outputs": [
    {
     "data": {
      "text/html": [
       "<div>\n",
       "<style scoped>\n",
       "    .dataframe tbody tr th:only-of-type {\n",
       "        vertical-align: middle;\n",
       "    }\n",
       "\n",
       "    .dataframe tbody tr th {\n",
       "        vertical-align: top;\n",
       "    }\n",
       "\n",
       "    .dataframe thead th {\n",
       "        text-align: right;\n",
       "    }\n",
       "</style>\n",
       "<table border=\"1\" class=\"dataframe\">\n",
       "  <thead>\n",
       "    <tr style=\"text-align: right;\">\n",
       "      <th></th>\n",
       "      <th>docs</th>\n",
       "      <th>pages</th>\n",
       "    </tr>\n",
       "  </thead>\n",
       "  <tbody>\n",
       "    <tr>\n",
       "      <td>11000_pg_report_part_1.pdf</td>\n",
       "      <td>11,000 PAGE REPORT\\n0001-0100Library Injured (...</td>\n",
       "      <td>14</td>\n",
       "    </tr>\n",
       "    <tr>\n",
       "      <td>11000_pg_report_part_2.pdf</td>\n",
       "      <td>11,000 PAGE REPORT\\npgs.5501-5600 to 10901-109...</td>\n",
       "      <td>17</td>\n",
       "    </tr>\n",
       "    <tr>\n",
       "      <td>2014-NaBITA-Whitepaper-Text-with-Graphics.pdf</td>\n",
       "      <td>THREAT \\nASSESSMENT IN THE \\nCAMPUS \\nSETTIN...</td>\n",
       "      <td>28</td>\n",
       "    </tr>\n",
       "    <tr>\n",
       "      <td>ACSO_000305-383_Arapahoe_Initial_Response.pdf</td>\n",
       "      <td>Arapahoe Initial Response ACSO AHS Investigati...</td>\n",
       "      <td>79</td>\n",
       "    </tr>\n",
       "    <tr>\n",
       "      <td>ACSO_000384-584_Assisting_Agencies-Part_1.pdf</td>\n",
       "      <td>CBI ACSO AHS Investigation ACSO 0000384  Color...</td>\n",
       "      <td>201</td>\n",
       "    </tr>\n",
       "  </tbody>\n",
       "</table>\n",
       "</div>"
      ],
      "text/plain": [
       "                                                                                            docs  \\\n",
       "11000_pg_report_part_1.pdf                     11,000 PAGE REPORT\\n0001-0100Library Injured (...   \n",
       "11000_pg_report_part_2.pdf                     11,000 PAGE REPORT\\npgs.5501-5600 to 10901-109...   \n",
       "2014-NaBITA-Whitepaper-Text-with-Graphics.pdf    THREAT \\nASSESSMENT IN THE \\nCAMPUS \\nSETTIN...   \n",
       "ACSO_000305-383_Arapahoe_Initial_Response.pdf  Arapahoe Initial Response ACSO AHS Investigati...   \n",
       "ACSO_000384-584_Assisting_Agencies-Part_1.pdf  CBI ACSO AHS Investigation ACSO 0000384  Color...   \n",
       "\n",
       "                                              pages  \n",
       "11000_pg_report_part_1.pdf                       14  \n",
       "11000_pg_report_part_2.pdf                       17  \n",
       "2014-NaBITA-Whitepaper-Text-with-Graphics.pdf    28  \n",
       "ACSO_000305-383_Arapahoe_Initial_Response.pdf    79  \n",
       "ACSO_000384-584_Assisting_Agencies-Part_1.pdf   201  "
      ]
     },
     "execution_count": 256,
     "metadata": {},
     "output_type": "execute_result"
    }
   ],
   "source": [
    "with open('docs.pkl', 'rb') as f:\n",
    "    data_df = pickle.load(f)\n",
    "data_df.head()"
   ]
  },
  {
   "cell_type": "code",
   "execution_count": 87,
   "metadata": {},
   "outputs": [],
   "source": [
    "data_df['word_count']=data_df.docs.apply(len)\n",
    "data_df['words_per_page']=data_df['word_count']/data_df['pages']"
   ]
  },
  {
   "cell_type": "code",
   "execution_count": 94,
   "metadata": {},
   "outputs": [
    {
     "data": {
      "image/png": "[encoded data removed]",
      "text/plain": [
       "<Figure size 432x288 with 1 Axes>"
      ]
     },
     "metadata": {
      "needs_background": "light"
     },
     "output_type": "display_data"
    }
   ],
   "source": [
    "ax=sns.scatterplot(x=range(len(data_df)),y='word_count',data=data_df)\n",
    "ax=sns.lineplot(x=range(len(data_df)),y=np.average(data_df['word_count']),color = 'r')"
   ]
  },
  {
   "cell_type": "code",
   "execution_count": 253,
   "metadata": {},
   "outputs": [
    {
     "data": {
      "text/plain": [
       "133873.05714285714"
      ]
     },
     "execution_count": 253,
     "metadata": {},
     "output_type": "execute_result"
    }
   ],
   "source": [
    "np.average(data_df['word_count'])"
   ]
  },
  {
   "cell_type": "code",
   "execution_count": 254,
   "metadata": {},
   "outputs": [
    {
     "data": {
      "text/plain": [
       "35333.0"
      ]
     },
     "execution_count": 254,
     "metadata": {},
     "output_type": "execute_result"
    }
   ],
   "source": [
    "np.median(data_df['word_count'])"
   ]
  },
  {
   "cell_type": "code",
   "execution_count": 88,
   "metadata": {},
   "outputs": [
    {
     "data": {
      "image/png": "[encoded data removed]",
      "text/plain": [
       "<Figure size 432x288 with 1 Axes>"
      ]
     },
     "metadata": {
      "needs_background": "light"
     },
     "output_type": "display_data"
    }
   ],
   "source": [
    "ax=sns.scatterplot(x=range(len(data_df)),y='words_per_page',data=data_df)"
   ]
  },
  {
   "cell_type": "code",
   "execution_count": 99,
   "metadata": {},
   "outputs": [
    {
     "data": {
      "text/html": [
       "<div>\n",
       "<style scoped>\n",
       "    .dataframe tbody tr th:only-of-type {\n",
       "        vertical-align: middle;\n",
       "    }\n",
       "\n",
       "    .dataframe tbody tr th {\n",
       "        vertical-align: top;\n",
       "    }\n",
       "\n",
       "    .dataframe thead th {\n",
       "        text-align: right;\n",
       "    }\n",
       "</style>\n",
       "<table border=\"1\" class=\"dataframe\">\n",
       "  <thead>\n",
       "    <tr style=\"text-align: right;\">\n",
       "      <th></th>\n",
       "      <th>docs</th>\n",
       "      <th>pages</th>\n",
       "      <th>word_count</th>\n",
       "      <th>words_per_page</th>\n",
       "    </tr>\n",
       "  </thead>\n",
       "  <tbody>\n",
       "    <tr>\n",
       "      <td>Hribal_Letter.pdf</td>\n",
       "      <td></td>\n",
       "      <td>4</td>\n",
       "      <td>11</td>\n",
       "      <td>2.75</td>\n",
       "    </tr>\n",
       "  </tbody>\n",
       "</table>\n",
       "</div>"
      ],
      "text/plain": [
       "                          docs pages  word_count words_per_page\n",
       "Hribal_Letter.pdf                  4          11           2.75"
      ]
     },
     "execution_count": 99,
     "metadata": {},
     "output_type": "execute_result"
    }
   ],
   "source": [
    "data_df[data_df['word_count']<100]"
   ]
  },
  {
   "cell_type": "code",
   "execution_count": 89,
   "metadata": {},
   "outputs": [
    {
     "data": {
      "text/html": [
       "<div>\n",
       "<style scoped>\n",
       "    .dataframe tbody tr th:only-of-type {\n",
       "        vertical-align: middle;\n",
       "    }\n",
       "\n",
       "    .dataframe tbody tr th {\n",
       "        vertical-align: top;\n",
       "    }\n",
       "\n",
       "    .dataframe thead th {\n",
       "        text-align: right;\n",
       "    }\n",
       "</style>\n",
       "<table border=\"1\" class=\"dataframe\">\n",
       "  <thead>\n",
       "    <tr style=\"text-align: right;\">\n",
       "      <th></th>\n",
       "      <th>docs</th>\n",
       "      <th>pages</th>\n",
       "      <th>word_count</th>\n",
       "      <th>words_per_page</th>\n",
       "    </tr>\n",
       "  </thead>\n",
       "  <tbody>\n",
       "    <tr>\n",
       "      <td>Lanza_spreadsheet.pdf</td>\n",
       "      <td>1234567891011121314151617181920212223242526272...</td>\n",
       "      <td>4</td>\n",
       "      <td>53513</td>\n",
       "      <td>13378.2</td>\n",
       "    </tr>\n",
       "    <tr>\n",
       "      <td>harper-mercer_dating_profile.pdf</td>\n",
       "      <td>IRONCROSS45\\nadd to friends list\\nadd to frien...</td>\n",
       "      <td>1</td>\n",
       "      <td>12118</td>\n",
       "      <td>12118</td>\n",
       "    </tr>\n",
       "  </tbody>\n",
       "</table>\n",
       "</div>"
      ],
      "text/plain": [
       "                                                                               docs  \\\n",
       "Lanza_spreadsheet.pdf             1234567891011121314151617181920212223242526272...   \n",
       "harper-mercer_dating_profile.pdf  IRONCROSS45\\nadd to friends list\\nadd to frien...   \n",
       "\n",
       "                                 pages  word_count words_per_page  \n",
       "Lanza_spreadsheet.pdf                4       53513        13378.2  \n",
       "harper-mercer_dating_profile.pdf     1       12118          12118  "
      ]
     },
     "execution_count": 89,
     "metadata": {},
     "output_type": "execute_result"
    }
   ],
   "source": [
    "data_df[data_df['words_per_page']>10000]"
   ]
  },
  {
   "cell_type": "markdown",
   "metadata": {},
   "source": [
    "### Note:\n",
    "Still include outlier in the following analysis.\\\n",
    "For time and memory efficiency, I only use first 10000 words to conduct the analysis."
   ]
  },
  {
   "cell_type": "code",
   "execution_count": 171,
   "metadata": {},
   "outputs": [],
   "source": [
    "def split_text(text,n=10000):\n",
    "    '''take text as input and return its first n percentage of elements'''\n",
    "    \n",
    "    if len(text)>n:\n",
    "        return text[:n]\n",
    "    else:\n",
    "        return text"
   ]
  },
  {
   "cell_type": "code",
   "execution_count": 172,
   "metadata": {},
   "outputs": [],
   "source": [
    "clean_split = lambda x:split_text(x)"
   ]
  },
  {
   "cell_type": "code",
   "execution_count": 173,
   "metadata": {},
   "outputs": [],
   "source": [
    "data_df['split_docs']=data_df.docs.apply(clean_split)"
   ]
  },
  {
   "cell_type": "markdown",
   "metadata": {},
   "source": [
    "### Text clean"
   ]
  },
  {
   "cell_type": "code",
   "execution_count": 221,
   "metadata": {},
   "outputs": [],
   "source": [
    "# some helper function\n",
    "def combine_texts(list_of_text):\n",
    "    '''Taking a list of texts and combining them into one large chunk of text.'''\n",
    "    combined_text = ' '.join(list_of_text)\n",
    "    return combined_text\n",
    "def chunck_list(lst,chunck_size = 5000):\n",
    "    '''to split large doc into batches, defualt batch size 5000'''\n",
    "    for i in range(0,len(lst),chunck_size):\n",
    "        yield lst[i:i+chunck_size]\n",
    "        \n",
    "# Data clean by spacy\n",
    "def clean_text_pipe(text,allowed_postags=['PROPN','NOUN', 'ADJ', 'VERB', 'ADV']):\n",
    "    '''Remove stop words and punctuaion'''\n",
    "    BATCH_SIZE = 5000\n",
    "    if len(text) > BATCH_SIZE:\n",
    "        split_text = chunck_list(text)\n",
    "        docs = [nlp(t) for t in split_text]\n",
    "        cleaned_docs = []\n",
    "        for doc in docs:\n",
    "            cleaned_doc = [token.lemma_ for token in doc if not token.is_stop and not token.is_punct and token.is_alpha and token.pos_ in allowed_postags]\n",
    "            cleaned_text=' '.join(cleaned_doc)\n",
    "            cleaned_docs.append(cleaned_text)\n",
    "        return combine_texts(cleaned_docs)\n",
    "    else:\n",
    "        doc = nlp(text)\n",
    "        cleaned_doc = [token.lemma_ for token in doc if not token.is_stop and not token.is_punct and token.is_alpha and token.pos_ in allowed_postags]\n",
    "        cleaned_text=' '.join(cleaned_doc)\n",
    "        return cleaned_text \n",
    "clean_2 = lambda x: clean_text_pipe(x,allowed_postags=['NOUN', 'ADJ', 'VERB', 'ADV'])"
   ]
  },
  {
   "cell_type": "code",
   "execution_count": 222,
   "metadata": {},
   "outputs": [],
   "source": [
    "data_clean = pd.DataFrame(data_df.split_docs.apply(clean_2))"
   ]
  },
  {
   "cell_type": "markdown",
   "metadata": {},
   "source": [
    "### Tokenization and create dictionary"
   ]
  },
  {
   "cell_type": "code",
   "execution_count": 223,
   "metadata": {},
   "outputs": [],
   "source": [
    "def tokenize_text(text):\n",
    "    '''transforming text in to token'''\n",
    "    token_list = text.split()\n",
    "    return token_list"
   ]
  },
  {
   "cell_type": "code",
   "execution_count": 224,
   "metadata": {},
   "outputs": [],
   "source": [
    "# pure_text: a list that conataining all the docs, pure_token: a list of docs into list of tokens\n",
    "pure_text = data_clean.split_docs.values.tolist()\n",
    "pure_token = list(map(tokenize_text,pure_text))"
   ]
  },
  {
   "cell_type": "code",
   "execution_count": 242,
   "metadata": {},
   "outputs": [],
   "source": [
    "from gensim import corpora\n",
    "INPUT = pure_token\n",
    "# Create Dictionary\n",
    "id2word = corpora.Dictionary(INPUT)\n",
    "# Create Corpus\n",
    "texts = INPUT\n",
    "# Filter out words that occur less than and greater than\n",
    "id2word.filter_extremes(no_below=1,no_above=300)\n",
    "# Term Document Frequency\n",
    "corpus = [id2word.doc2bow(text) for text in texts]"
   ]
  },
  {
   "cell_type": "code",
   "execution_count": 243,
   "metadata": {},
   "outputs": [
    {
     "data": {
      "text/plain": [
       "14650"
      ]
     },
     "execution_count": 243,
     "metadata": {},
     "output_type": "execute_result"
    }
   ],
   "source": [
    "# how many vocabularies are in the dictionary\n",
    "len(id2word)"
   ]
  },
  {
   "cell_type": "markdown",
   "metadata": {},
   "source": [
    "### LDA using Bag of words"
   ]
  },
  {
   "cell_type": "code",
   "execution_count": 227,
   "metadata": {},
   "outputs": [],
   "source": [
    "# LDA model\n",
    "def run_LDA_model(corpus, id2word,TOPICS):\n",
    "    '''This function returns lda models '''\n",
    "    lda_model = gensim.models.ldamodel.LdaModel(corpus=corpus,\n",
    "                                           id2word=id2word,\n",
    "                                           num_topics=TOPICS, \n",
    "                                           random_state=42,\n",
    "                                           update_every=1,\n",
    "                                           chunksize=100,\n",
    "                                           passes=10,\n",
    "                                           alpha='auto',\n",
    "                                           per_word_topics=True)\n",
    "    return lda_model"
   ]
  },
  {
   "cell_type": "code",
   "execution_count": 248,
   "metadata": {},
   "outputs": [],
   "source": [
    "# Compute Coherence Score and search for the best topic numbers\n",
    "from gensim.models import CoherenceModel\n",
    "\n",
    "TOPICS_LIST = range(3,10)\n",
    "lda_models = []\n",
    "coherence_scores = []\n",
    "for TOPICS in TOPICS_LIST:\n",
    "    lda_model = run_LDA_model(corpus,id2word,TOPICS)\n",
    "    lda_models.append(lda_model)\n",
    "    \n",
    "    coherence_model_lda = CoherenceModel(model=lda_model, texts=INPUT, dictionary=id2word, coherence='c_v')\n",
    "    score = coherence_model_lda.get_coherence()\n",
    "    coherence_scores.append(score)"
   ]
  },
  {
   "cell_type": "code",
   "execution_count": 249,
   "metadata": {},
   "outputs": [
    {
     "data": {
      "text/plain": [
       "Text(0, 0.5, 'Scores')"
      ]
     },
     "execution_count": 249,
     "metadata": {},
     "output_type": "execute_result"
    },
    {
     "data": {
      "image/png": "[encoded data removed]",
      "text/plain": [
       "<Figure size 432x288 with 1 Axes>"
      ]
     },
     "metadata": {
      "needs_background": "light"
     },
     "output_type": "display_data"
    }
   ],
   "source": [
    "sns.lineplot(x= TOPICS_LIST,y=coherence_scores)\n",
    "plt.title('Coherence_scores')\n",
    "plt.xlabel('TOPICS')\n",
    "plt.ylabel('Scores')"
   ]
  },
  {
   "cell_type": "code",
   "execution_count": 251,
   "metadata": {},
   "outputs": [
    {
     "data": {
      "text/plain": [
       "[(0,\n",
       "  '0.014*\"school\" + 0.010*\"attack\" + 0.008*\"shooter\" + 0.008*\"know\" + 0.007*\"people\" + 0.007*\"kill\" + 0.007*\"say\" + 0.007*\"time\" + 0.006*\"go\" + 0.005*\"s\"'),\n",
       " (1,\n",
       "  '0.011*\"address\" + 0.011*\"gender\" + 0.008*\"telephone\" + 0.007*\"classification\" + 0.006*\"send\" + 0.005*\"people\" + 0.005*\"female\" + 0.004*\"race\" + 0.004*\"mention\" + 0.004*\"weight\"'),\n",
       " (2,\n",
       "  '0.015*\"school\" + 0.010*\"report\" + 0.009*\"student\" + 0.009*\"threat\" + 0.008*\"information\" + 0.008*\"violence\" + 0.008*\"law\" + 0.007*\"incident\" + 0.007*\"shooter\" + 0.007*\"shooting\"'),\n",
       " (3,\n",
       "  '0.019*\"court\" + 0.012*\"trial\" + 0.012*\"defendant\" + 0.010*\"case\" + 0.008*\"state\" + 0.008*\"murder\" + 0.007*\"file\" + 0.007*\"appeal\" + 0.006*\"sentence\" + 0.006*\"count\"')]"
      ]
     },
     "execution_count": 251,
     "metadata": {},
     "output_type": "execute_result"
    }
   ],
   "source": [
    "# see 4 topics \n",
    "best_lda_model = lda_models[1]\n",
    "best_lda_model.print_topics()"
   ]
  },
  {
   "cell_type": "code",
   "execution_count": 250,
   "metadata": {},
   "outputs": [
    {
     "data": {
      "text/plain": [
       "[(0,\n",
       "  '0.014*\"say\" + 0.014*\"know\" + 0.013*\"go\" + 0.011*\"tell\" + 0.010*\"time\" + 0.009*\"school\" + 0.008*\"gun\" + 0.008*\"friend\" + 0.008*\"want\" + 0.008*\"think\"'),\n",
       " (1,\n",
       "  '0.002*\"yve\" + 0.002*\"pierre\" + 0.001*\"admissible\" + 0.001*\"gown\" + 0.001*\"darrell\" + 0.001*\"refresh\" + 0.001*\"inflection\" + 0.001*\"boisvert\" + 0.001*\"adjournment\" + 0.001*\"michel\"'),\n",
       " (2,\n",
       "  '0.021*\"defendant\" + 0.013*\"murder\" + 0.012*\"court\" + 0.010*\"sentence\" + 0.008*\"jury\" + 0.008*\"trial\" + 0.007*\"count\" + 0.007*\"case\" + 0.007*\"criminal\" + 0.007*\"gun\"'),\n",
       " (3,\n",
       "  '0.026*\"court\" + 0.017*\"trial\" + 0.012*\"state\" + 0.011*\"claim\" + 0.010*\"appeal\" + 0.009*\"motion\" + 0.008*\"counsel\" + 0.008*\"case\" + 0.008*\"issue\" + 0.008*\"order\"'),\n",
       " (4,\n",
       "  '0.023*\"school\" + 0.020*\"attack\" + 0.018*\"shooter\" + 0.009*\"kill\" + 0.007*\"report\" + 0.007*\"violence\" + 0.007*\"people\" + 0.006*\"include\" + 0.006*\"family\" + 0.006*\"shooting\"'),\n",
       " (5,\n",
       "  '0.033*\"case\" + 0.032*\"page\" + 0.031*\"document\" + 0.023*\"file\" + 0.007*\"date\" + 0.007*\"v\" + 0.005*\"number\" + 0.004*\"drug\" + 0.003*\"hair\" + 0.003*\"state\"'),\n",
       " (6,\n",
       "  '0.038*\"address\" + 0.036*\"gender\" + 0.028*\"telephone\" + 0.026*\"classification\" + 0.014*\"female\" + 0.013*\"mention\" + 0.011*\"male\" + 0.011*\"weight\" + 0.009*\"build\" + 0.009*\"height\"'),\n",
       " (7,\n",
       "  '0.014*\"life\" + 0.014*\"people\" + 0.010*\"man\" + 0.008*\"world\" + 0.008*\"hate\" + 0.007*\"human\" + 0.006*\"love\" + 0.005*\"think\" + 0.005*\"live\" + 0.005*\"movie\"'),\n",
       " (8,\n",
       "  '0.016*\"report\" + 0.011*\"law\" + 0.011*\"school\" + 0.010*\"incident\" + 0.010*\"threat\" + 0.010*\"student\" + 0.010*\"enforcement\" + 0.010*\"information\" + 0.008*\"assessment\" + 0.007*\"individual\"')]"
      ]
     },
     "execution_count": 250,
     "metadata": {},
     "output_type": "execute_result"
    }
   ],
   "source": [
    "# see 8 topics\n",
    "best_lda_model = lda_models[6]\n",
    "best_lda_model.print_topics()"
   ]
  },
  {
   "cell_type": "markdown",
   "metadata": {},
   "source": [
    "**Note:**\\\n",
    "the category probably goes into\n",
    "1. case description\n",
    "2. shooter or victims's info \n",
    "3. school's report\n",
    "4. court's record"
   ]
  },
  {
   "cell_type": "code",
   "execution_count": 233,
   "metadata": {},
   "outputs": [
    {
     "name": "stdout",
     "output_type": "stream",
     "text": [
      "[(0, 0.46434158), (3, 0.5332169)]\n",
      "[(0, 0.9236541), (2, 0.075376)]\n",
      "[(2, 0.9995132)]\n",
      "[(0, 0.41451856), (2, 0.4225249), (3, 0.16291972)]\n",
      "[(0, 0.01234357), (2, 0.5312555), (3, 0.4563339)]\n",
      "[(0, 0.5178941), (2, 0.16179352), (3, 0.3202718)]\n",
      "[(0, 0.8133083), (2, 0.121349074), (3, 0.065297164)]\n",
      "[(0, 0.63800806), (2, 0.36183575)]\n",
      "[(0, 0.92130184), (2, 0.07852876)]\n",
      "[(0, 0.116199434), (2, 0.23435661), (3, 0.6493949)]\n",
      "[(0, 0.2492757), (2, 0.7503342)]\n",
      "[(0, 0.023368465), (1, 0.9572496), (2, 0.011778365)]\n",
      "[(0, 0.13264543), (2, 0.8671853)]\n",
      "[(0, 0.1912519), (2, 0.8085395)]\n",
      "[(0, 0.094494484), (2, 0.2252018), (3, 0.6802657)]\n",
      "[(0, 0.09969034), (2, 0.8061552), (3, 0.09411712)]\n",
      "[(2, 0.10383914), (3, 0.89577454)]\n",
      "[(0, 0.8692103), (2, 0.13060133)]\n",
      "[(0, 0.38698557), (2, 0.6127872)]\n",
      "[(0, 0.16137485), (2, 0.81878906), (3, 0.01979506)]\n",
      "[(0, 0.20603473), (1, 0.013301385), (2, 0.03321219), (3, 0.7474517)]\n",
      "[(0, 0.029605905), (2, 0.97016853)]\n",
      "[(0, 0.2141875), (2, 0.7342322), (3, 0.051524885)]\n",
      "[(0, 0.81593114), (2, 0.1837025)]\n",
      "[(3, 0.99913114)]\n",
      "[(0, 0.40107393), (3, 0.5965648)]\n",
      "[(0, 0.35351846), (2, 0.630592), (3, 0.015841734)]\n",
      "[(0, 0.08852356), (2, 0.055992864), (3, 0.8554124)]\n",
      "[(2, 0.03592822), (3, 0.96361476)]\n",
      "[(2, 0.9992068)]\n",
      "[(3, 0.99535346)]\n",
      "[(2, 0.042015694), (3, 0.9574981)]\n",
      "[(0, 0.03194981), (2, 0.031076651), (3, 0.9369394)]\n",
      "[(0, 0.06824925), (2, 0.071906395), (3, 0.8598053)]\n",
      "[(2, 0.101309754), (3, 0.89829135)]\n",
      "[(0, 0.03649099), (3, 0.96314)]\n",
      "[(0, 0.9080507), (2, 0.08651685)]\n",
      "[(0, 0.8105499), (1, 0.18904303)]\n",
      "[(0, 0.22507234), (2, 0.39424044), (3, 0.38064528)]\n",
      "[(2, 0.998828)]\n",
      "[(2, 0.047153655), (3, 0.952416)]\n",
      "[(0, 0.15261851), (1, 0.015353453), (2, 0.781633), (3, 0.050395038)]\n",
      "[(0, 0.023143545), (2, 0.976672)]\n",
      "[(0, 0.18490954), (2, 0.6898646), (3, 0.12518987)]\n",
      "[(0, 0.349532), (2, 0.48247385), (3, 0.16795385)]\n",
      "[(0, 0.88839966), (2, 0.047807254), (3, 0.06370396)]\n",
      "[(0, 0.86252856), (2, 0.03801565), (3, 0.099363595)]\n",
      "[(0, 0.03192342), (2, 0.9679101)]\n",
      "[(0, 0.63826746), (2, 0.28049913), (3, 0.08115764)]\n",
      "[(0, 0.8636941), (2, 0.018113075), (3, 0.118112616)]\n",
      "[(0, 0.811463), (2, 0.1347646), (3, 0.053697627)]\n",
      "[(0, 0.74188066), (2, 0.178561), (3, 0.07947408)]\n",
      "[(0, 0.82273746), (2, 0.08030933), (3, 0.09687141)]\n",
      "[(0, 0.78199273), (2, 0.11169966), (3, 0.10623308)]\n",
      "[(0, 0.80157995), (2, 0.07728083), (3, 0.12106575)]\n",
      "[(0, 0.8255481), (2, 0.13606477), (3, 0.03830475)]\n",
      "[(0, 0.8020648), (2, 0.11552469), (3, 0.08233356)]\n",
      "[(0, 0.8879063), (3, 0.11159925)]\n",
      "[(0, 0.066129655), (1, 0.87972987), (2, 0.053773843)]\n",
      "[(0, 0.083928406), (2, 0.03933199), (3, 0.876706)]\n",
      "[(0, 0.13691151), (2, 0.06733724), (3, 0.795704)]\n",
      "[(3, 0.9942105)]\n",
      "[(0, 0.5118677), (1, 0.052120183), (2, 0.2649375), (3, 0.17107463)]\n",
      "[(0, 0.3993516), (2, 0.03903892), (3, 0.5615755)]\n",
      "[(0, 0.04758959), (2, 0.01824437), (3, 0.9341292)]\n",
      "[(3, 0.99882936)]\n",
      "[(0, 0.49830294), (3, 0.5014681)]\n",
      "[(0, 0.1237665), (2, 0.04193195), (3, 0.83426416)]\n",
      "[(2, 0.99913496)]\n",
      "[(0, 0.16164853), (2, 0.83817667)]\n",
      "[(2, 0.99920803)]\n",
      "[(2, 0.99937314)]\n",
      "[(0, 0.78685427), (3, 0.21140741)]\n",
      "[(0, 0.82643986), (2, 0.04566118), (3, 0.12786414)]\n",
      "[(2, 0.030668275), (3, 0.96888506)]\n",
      "[(0, 0.41124034), (2, 0.054698244), (3, 0.5340109)]\n",
      "[(0, 0.42696595), (3, 0.5727447)]\n",
      "[(0, 0.40507782), (1, 0.09574329), (2, 0.08051652), (3, 0.41866234)]\n",
      "[(0, 0.5678416), (3, 0.43183208)]\n",
      "[(0, 0.23214722), (3, 0.7675956)]\n",
      "[(0, 0.68377125), (3, 0.31579113)]\n",
      "[(0, 0.62692773), (2, 0.03317111), (3, 0.3398653)]\n",
      "[(0, 0.41544235), (2, 0.24693875), (3, 0.3375707)]\n",
      "[(0, 0.22126612), (3, 0.77787954)]\n",
      "[(0, 0.022884263), (2, 0.9546886), (3, 0.022376407)]\n",
      "[(2, 0.99618715)]\n",
      "[(1, 0.14535695), (3, 0.85293955)]\n",
      "[(3, 0.9994481)]\n",
      "[(0, 0.18222134), (2, 0.2193013), (3, 0.5984352)]\n",
      "[(0, 0.033642266), (2, 0.088215396), (3, 0.877979)]\n",
      "[(2, 0.020020364), (3, 0.97961086)]\n",
      "[(0, 0.072573856), (2, 0.032387216), (3, 0.89500165)]\n",
      "[(2, 0.046028953), (3, 0.95357996)]\n",
      "[(0, 0.40783328), (2, 0.14273155), (3, 0.44939283)]\n",
      "[(0, 0.5118677), (1, 0.052120183), (2, 0.2649375), (3, 0.17107463)]\n",
      "[(0, 0.33335668), (2, 0.6664771)]\n",
      "[(0, 0.5118677), (1, 0.052120183), (2, 0.2649375), (3, 0.17107463)]\n",
      "[(2, 0.99942315)]\n",
      "[(0, 0.13028964), (2, 0.19583851), (3, 0.67383724)]\n",
      "[(2, 0.11846529), (3, 0.8810335)]\n",
      "[(0, 0.11453777), (1, 0.021402149), (2, 0.17942053), (3, 0.6846395)]\n",
      "[(0, 0.06995457), (2, 0.11123615), (3, 0.81877077)]\n",
      "[(0, 0.1783888), (2, 0.82146794)]\n",
      "[(0, 0.6176545), (2, 0.2611374), (3, 0.12115199)]\n",
      "[(0, 0.3258209), (1, 0.6736815)]\n",
      "[(0, 0.17610268), (2, 0.115118824), (3, 0.7087377)]\n",
      "[(2, 0.48363405), (3, 0.5159446)]\n",
      "[(0, 0.07886632), (2, 0.8092257), (3, 0.11186049)]\n",
      "[(0, 0.19161361), (2, 0.028794365), (3, 0.7795573)]\n",
      "[(2, 0.17400934), (3, 0.82462114)]\n",
      "[(3, 0.99932003)]\n",
      "[(2, 0.018195173), (3, 0.981418)]\n",
      "[(0, 0.99957573)]\n",
      "[(0, 0.26997545), (2, 0.08899211), (3, 0.641)]\n",
      "[(0, 0.78491765), (2, 0.18689848), (3, 0.028150372)]\n",
      "[(0, 0.14510204), (2, 0.038781304), (3, 0.81608045)]\n",
      "[(0, 0.1837078), (3, 0.81606585)]\n",
      "[(2, 0.01132835), (3, 0.9882988)]\n",
      "[(0, 0.9995839)]\n",
      "[(0, 0.9665186), (3, 0.033262)]\n",
      "[(1, 0.9947494)]\n",
      "[(1, 0.9938269)]\n",
      "[(0, 0.96147656), (2, 0.038205244)]\n",
      "[(0, 0.66124874), (2, 0.3359548)]\n",
      "[(0, 0.7247396), (1, 0.23607011), (3, 0.03880833)]\n",
      "[(0, 0.6660412), (1, 0.26387942), (2, 0.055052985), (3, 0.01502642)]\n",
      "[(0, 0.765937), (1, 0.21241431), (2, 0.013157372)]\n",
      "[(0, 0.5064992), (1, 0.2107297), (2, 0.115080945), (3, 0.16769014)]\n",
      "[(0, 0.21557173), (3, 0.78373855)]\n",
      "[(2, 0.54235125), (3, 0.45716298)]\n",
      "[(0, 0.4326759), (1, 0.16958396), (2, 0.3394874), (3, 0.058252722)]\n",
      "[(0, 0.0608572), (2, 0.9092903), (3, 0.02980549)]\n",
      "[(0, 0.020608615), (2, 0.94072485), (3, 0.03862247)]\n",
      "[(0, 0.11699416), (2, 0.30655444), (3, 0.57641834)]\n",
      "[(0, 0.77210194), (2, 0.1270675), (3, 0.10062562)]\n",
      "[(3, 0.98959297)]\n",
      "[(3, 0.989589)]\n",
      "[(3, 0.9985224)]\n",
      "[(0, 0.9382548), (3, 0.061306078)]\n",
      "[(0, 0.2410349), (3, 0.7587644)]\n",
      "[(0, 0.032387502), (3, 0.96716785)]\n",
      "[(0, 0.9996919)]\n",
      "[(0, 0.24369605), (2, 0.7560669)]\n",
      "[(0, 0.99968183)]\n",
      "[(0, 0.025121149), (1, 0.017346628), (2, 0.95691264)]\n",
      "[(0, 0.017403508), (2, 0.98246354)]\n",
      "[(2, 0.9994616)]\n",
      "[(0, 0.015861072), (2, 0.09580005), (3, 0.8883003)]\n",
      "[(0, 0.102152705), (3, 0.8976396)]\n",
      "[(2, 0.1403995), (3, 0.8591477)]\n",
      "[(0, 0.07560324), (3, 0.9240371)]\n",
      "[(0, 0.5118677), (1, 0.052120183), (2, 0.2649375), (3, 0.17107463)]\n",
      "[(3, 0.9994394)]\n",
      "[(2, 0.55329156), (3, 0.44579563)]\n",
      "[(2, 0.20919149), (3, 0.79026943)]\n",
      "[(0, 0.08920757), (2, 0.045790367), (3, 0.8560001)]\n",
      "[(0, 0.28339374), (1, 0.30586165), (2, 0.18210168), (3, 0.22864293)]\n",
      "[(0, 0.020378444), (2, 0.9792398)]\n",
      "[(1, 0.44222572), (3, 0.55625784)]\n",
      "[(0, 0.53985304), (1, 0.13789263), (2, 0.01455007), (3, 0.30770424)]\n",
      "[(0, 0.18239287), (2, 0.09477423), (3, 0.7227912)]\n",
      "[(0, 0.32625955), (2, 0.6730705)]\n",
      "[(3, 0.99869823)]\n",
      "[(0, 0.030092282), (3, 0.96968794)]\n",
      "[(0, 0.015046197), (3, 0.9757449)]\n",
      "[(3, 0.9992371)]\n",
      "[(0, 0.16687533), (2, 0.64760643), (3, 0.18548237)]\n",
      "[(0, 0.43413946), (1, 0.50893295), (2, 0.05683131)]\n",
      "[(2, 0.44307947), (3, 0.55650127)]\n",
      "[(0, 0.4501213), (3, 0.5496744)]\n",
      "[(0, 0.019374661), (2, 0.021867108), (3, 0.9587238)]\n",
      "[(1, 0.9031462), (2, 0.0843254)]\n",
      "[(0, 0.06507184), (2, 0.93362194)]\n",
      "[(0, 0.022788938), (1, 0.9578638), (2, 0.011758773)]\n",
      "[(0, 0.030507533), (2, 0.9692595)]\n",
      "[(0, 0.05146133), (2, 0.9483837)]\n",
      "[(0, 0.77615905), (1, 0.087326095), (2, 0.1364022)]\n",
      "[(0, 0.69580704), (1, 0.30373955)]\n",
      "[(0, 0.5118677), (1, 0.052120183), (2, 0.2649375), (3, 0.17107463)]\n",
      "[(0, 0.072516106), (2, 0.92732066)]\n",
      "[(0, 0.585488), (2, 0.40445757)]\n",
      "[(2, 0.9990527)]\n",
      "[(0, 0.15077072), (1, 0.7208028), (2, 0.07803681), (3, 0.05038967)]\n",
      "[(0, 0.5118677), (1, 0.052120183), (2, 0.2649375), (3, 0.17107463)]\n",
      "[(0, 0.5118677), (1, 0.052120183), (2, 0.2649375), (3, 0.17107463)]\n",
      "[(2, 0.012590279), (3, 0.987025)]\n",
      "[(0, 0.19951437), (2, 0.79997945)]\n",
      "[(0, 0.16361749), (2, 0.8362187)]\n",
      "[(0, 0.791598), (2, 0.13054909), (3, 0.07782026)]\n",
      "[(0, 0.09006843), (2, 0.87135327), (3, 0.029569585)]\n",
      "[(0, 0.518884), (3, 0.48089623)]\n",
      "[(0, 0.07412613), (2, 0.08064998), (3, 0.8451851)]\n",
      "[(0, 0.25371203), (3, 0.7407607)]\n",
      "[(0, 0.11860856), (2, 0.033568848), (3, 0.84778726)]\n",
      "[(0, 0.952826), (2, 0.0469864)]\n",
      "[(0, 0.17287126), (2, 0.55822116), (3, 0.26883665)]\n",
      "[(0, 0.024185628), (2, 0.9756712)]\n",
      "[(1, 0.99029124)]\n",
      "[(2, 0.99933773)]\n",
      "[(0, 0.605615), (1, 0.3554824), (3, 0.038025368)]\n",
      "[(2, 0.02757638), (3, 0.97202647)]\n",
      "[(0, 0.014399403), (2, 0.4571298), (3, 0.5284337)]\n",
      "[(3, 0.99896294)]\n",
      "[(2, 0.15386021), (3, 0.84565777)]\n",
      "[(0, 0.16771653), (2, 0.7969127), (3, 0.035333462)]\n",
      "[(0, 0.06906387), (2, 0.9307894)]\n",
      "[(0, 0.06906194), (2, 0.9307913)]\n",
      "[(1, 0.99850565)]\n",
      "[(1, 0.8898454), (2, 0.109691314)]\n",
      "[(0, 0.018933002), (2, 0.98091686)]\n",
      "[(0, 0.10590692), (2, 0.19378245), (3, 0.70026857)]\n",
      "[(2, 0.08768271), (3, 0.9118268)]\n",
      "[(0, 0.05756418), (2, 0.5968854), (3, 0.3454899)]\n",
      "[(0, 0.36865506), (2, 0.010596859), (3, 0.6207053)]\n",
      "[(3, 0.9990625)]\n",
      "[(3, 0.99937963)]\n"
     ]
    },
    {
     "name": "stdout",
     "output_type": "stream",
     "text": [
      "[(3, 0.99942607)]\n",
      "[(0, 0.16551936), (3, 0.83424157)]\n",
      "[(3, 0.9994361)]\n",
      "[(0, 0.2982112), (3, 0.701554)]\n",
      "[(2, 0.99833924)]\n",
      "[(0, 0.14927964), (2, 0.8505306)]\n",
      "[(0, 0.9996428)]\n",
      "[(0, 0.9996561)]\n",
      "[(0, 0.49687675), (1, 0.50250846)]\n",
      "[(0, 0.06376964), (2, 0.028080944), (3, 0.90810907)]\n",
      "[(3, 0.9963345)]\n",
      "[(0, 0.91716933), (2, 0.077665426)]\n",
      "[(0, 0.8034665), (2, 0.17032978), (3, 0.026136918)]\n",
      "[(0, 0.5118677), (1, 0.052120183), (2, 0.2649375), (3, 0.17107463)]\n",
      "[(0, 0.5482344), (2, 0.32847488), (3, 0.12321692)]\n",
      "[(0, 0.81992865), (2, 0.17983474)]\n",
      "[(0, 0.7687525), (2, 0.23099765)]\n",
      "[(0, 0.73258334), (2, 0.2672504)]\n",
      "[(0, 0.5118677), (1, 0.052120183), (2, 0.2649375), (3, 0.17107463)]\n",
      "[(0, 0.5118677), (1, 0.052120183), (2, 0.2649375), (3, 0.17107463)]\n",
      "[(0, 0.97490424), (1, 0.024769114)]\n",
      "[(0, 0.999639)]\n",
      "[(0, 0.99879605)]\n",
      "[(0, 0.96129984), (1, 0.03835308)]\n",
      "[(0, 0.99523693)]\n",
      "[(0, 0.98452973), (3, 0.015241034)]\n",
      "[(0, 0.8423329), (2, 0.15745136)]\n",
      "[(0, 0.99967206)]\n",
      "[(0, 0.99281573)]\n",
      "[(0, 0.014301047), (2, 0.98553973)]\n",
      "[(0, 0.66900367), (3, 0.33078977)]\n",
      "[(2, 0.99905795)]\n",
      "[(0, 0.80050653), (1, 0.19069313)]\n",
      "[(0, 0.995892)]\n",
      "[(0, 0.96866715), (2, 0.028904283)]\n",
      "[(0, 0.8116035), (2, 0.1861455)]\n",
      "[(0, 0.0769653), (2, 0.06887347), (3, 0.8541271)]\n",
      "[(0, 0.7607021), (2, 0.2379349)]\n",
      "[(0, 0.5118677), (1, 0.052120183), (2, 0.2649375), (3, 0.17107463)]\n",
      "[(0, 0.4651971), (2, 0.53464866)]\n",
      "[(0, 0.20190723), (2, 0.5058201), (3, 0.29222178)]\n",
      "[(0, 0.9448404), (2, 0.055029165)]\n",
      "[(0, 0.9537583), (2, 0.046091523)]\n",
      "[(0, 0.65354335), (2, 0.34580645)]\n",
      "[(0, 0.29333192), (2, 0.7065194)]\n",
      "[(0, 0.9992921)]\n",
      "[(0, 0.5595128), (1, 0.44017276)]\n",
      "[(0, 0.8605527), (1, 0.13912137)]\n",
      "[(0, 0.8207907), (1, 0.17892103)]\n",
      "[(0, 0.99332833)]\n",
      "[(0, 0.74427843), (1, 0.2553952)]\n",
      "[(0, 0.85727406), (2, 0.1425178)]\n",
      "[(0, 0.9996086)]\n",
      "[(0, 0.96700174), (2, 0.032818235)]\n",
      "[(0, 0.03606357), (2, 0.060702953), (3, 0.9030782)]\n",
      "[(0, 0.59330255), (2, 0.40648353)]\n",
      "[(0, 0.99961036)]\n",
      "[(0, 0.99968517)]\n",
      "[(0, 0.99963224)]\n",
      "[(0, 0.92776877), (3, 0.071978346)]\n",
      "[(0, 0.9996401)]\n",
      "[(0, 0.5872433), (1, 0.4124261)]\n",
      "[(0, 0.8689705), (2, 0.13086413)]\n",
      "[(0, 0.9279566), (2, 0.056892045), (3, 0.01511401)]\n",
      "[(0, 0.63674885), (2, 0.36309662)]\n",
      "[(0, 0.8166014), (1, 0.16577838), (2, 0.01750589)]\n",
      "[(0, 0.5823428), (2, 0.3457603), (3, 0.07184659)]\n",
      "[(0, 0.42570642), (1, 0.5737228)]\n",
      "[(1, 0.65064096), (3, 0.34494862)]\n",
      "[(2, 0.9995174)]\n",
      "[(0, 0.9774414), (1, 0.02211815)]\n",
      "[(0, 0.7056248), (2, 0.16123167), (3, 0.13310555)]\n",
      "[(0, 0.9579176), (2, 0.031221747), (3, 0.010823636)]\n",
      "[(0, 0.614096), (1, 0.3382489), (2, 0.013161479), (3, 0.03449359)]\n",
      "[(0, 0.96367764), (2, 0.036140364)]\n",
      "[(0, 0.99964774)]\n",
      "[(0, 0.9996624)]\n",
      "[(0, 0.88217014), (2, 0.078315005), (3, 0.039467227)]\n",
      "[(0, 0.9996667)]\n",
      "[(0, 0.22991142), (3, 0.7698555)]\n",
      "[(0, 0.90631723), (3, 0.092632756)]\n",
      "[(0, 0.9996848)]\n",
      "[(0, 0.58608407), (2, 0.41376746)]\n",
      "[(0, 0.7519188), (2, 0.13315466), (3, 0.114885956)]\n",
      "[(0, 0.9996707)]\n",
      "[(0, 0.9996887)]\n",
      "[(0, 0.99947214)]\n",
      "[(0, 0.90503806), (2, 0.09479764)]\n",
      "[(0, 0.20569752), (2, 0.7940898)]\n",
      "[(0, 0.12928735), (2, 0.8705005)]\n",
      "[(0, 0.31065357), (2, 0.67075354), (3, 0.01855584)]\n",
      "[(0, 0.5403432), (2, 0.45951626)]\n",
      "[(0, 0.48102105), (2, 0.31845996), (3, 0.20047863)]\n",
      "[(0, 0.99832064)]\n",
      "[(0, 0.92817956), (2, 0.07165901)]\n",
      "[(2, 0.9995103)]\n",
      "[(0, 0.99966025)]\n",
      "[(0, 0.8677006), (1, 0.1320086)]\n",
      "[(0, 0.9996916)]\n",
      "[(0, 0.86365426), (1, 0.13558802)]\n",
      "[(2, 0.99483836)]\n",
      "[(0, 0.45391616), (2, 0.54593235)]\n",
      "[(0, 0.90033895), (2, 0.0995012)]\n",
      "[(0, 0.652884), (1, 0.33244568)]\n",
      "[(0, 0.9996844)]\n",
      "[(0, 0.052334208), (2, 0.94748604)]\n",
      "[(0, 0.018022964), (2, 0.98177844)]\n",
      "[(0, 0.22514614), (2, 0.77456826)]\n",
      "[(0, 0.60560626), (2, 0.39422768)]\n",
      "[(0, 0.77532125), (2, 0.22452652)]\n",
      "[(0, 0.951721), (2, 0.04810513)]\n",
      "[(0, 0.9997088)]\n",
      "[(0, 0.999666)]\n",
      "[(0, 0.9996764)]\n",
      "[(0, 0.9828355), (3, 0.016931063)]\n",
      "[(0, 0.98901635), (3, 0.010756141)]\n",
      "[(2, 0.98390377), (3, 0.015626097)]\n",
      "[(0, 0.51148754), (2, 0.4881295)]\n",
      "[(0, 0.7627877), (2, 0.23707731)]\n",
      "[(0, 0.80265385), (2, 0.19592117)]\n",
      "[(1, 0.9993754)]\n",
      "[(0, 0.91316617), (2, 0.08668539)]\n",
      "[(0, 0.23176919), (2, 0.7680847)]\n",
      "[(0, 0.999648)]\n",
      "[(0, 0.98214734)]\n",
      "[(0, 0.9986956)]\n",
      "[(0, 0.999431)]\n",
      "[(0, 0.9997149)]\n",
      "[(0, 0.9996712)]\n",
      "[(0, 0.99892324)]\n",
      "[(0, 0.9557163), (3, 0.04404939)]\n",
      "[(0, 0.9996247)]\n",
      "[(0, 0.9931035)]\n",
      "[(0, 0.65489894), (3, 0.33348447)]\n"
     ]
    }
   ],
   "source": [
    "corpus_trans = best_lda_model[corpus]\n",
    "# see which topics they are\n",
    "for i in corpus_trans:\n",
    "    print(i[0])        "
   ]
  },
  {
   "cell_type": "markdown",
   "metadata": {},
   "source": [
    "### LDA using tf-idf "
   ]
  },
  {
   "cell_type": "code",
   "execution_count": 244,
   "metadata": {},
   "outputs": [],
   "source": [
    "from gensim import models\n",
    "tfidf = models.TfidfModel(corpus)\n",
    "corpus_tfidf = tfidf[corpus]"
   ]
  },
  {
   "cell_type": "code",
   "execution_count": 245,
   "metadata": {},
   "outputs": [
    {
     "data": {
      "text/plain": [
       "Text(0, 0.5, 'Scores')"
      ]
     },
     "execution_count": 245,
     "metadata": {},
     "output_type": "execute_result"
    },
    {
     "data": {
      "image/png": "[encoded data removed]",
      "text/plain": [
       "<Figure size 432x288 with 1 Axes>"
      ]
     },
     "metadata": {
      "needs_background": "light"
     },
     "output_type": "display_data"
    }
   ],
   "source": [
    "# Compute Coherence Score and search for the best topic numbers\n",
    "from gensim.models import CoherenceModel\n",
    "\n",
    "TOPICS_LIST = range(3,10)\n",
    "lda_models = []\n",
    "coherence_scores = []\n",
    "for TOPICS in TOPICS_LIST:\n",
    "    lda_model = run_LDA_model(corpus_tfidf,id2word,TOPICS)\n",
    "    lda_models.append(lda_model)\n",
    "    \n",
    "    coherence_model_lda = CoherenceModel(model=lda_model, texts=INPUT, dictionary=id2word, coherence='c_v')\n",
    "    score = coherence_model_lda.get_coherence()\n",
    "    coherence_scores.append(score)\n",
    "\n",
    "sns.lineplot(x= TOPICS_LIST,y=coherence_scores)\n",
    "plt.title('Coherence_scores')\n",
    "plt.xlabel('TOPICS')\n",
    "plt.ylabel('Scores')"
   ]
  },
  {
   "cell_type": "code",
   "execution_count": 246,
   "metadata": {},
   "outputs": [
    {
     "data": {
      "text/plain": [
       "[(0,\n",
       "  '0.002*\"attack\" + 0.002*\"shooter\" + 0.001*\"school\" + 0.001*\"perpetrator\" + 0.001*\"threat\" + 0.001*\"report\" + 0.001*\"court\" + 0.001*\"mother\" + 0.001*\"people\" + 0.001*\"violence\"'),\n",
       " (1,\n",
       "  '0.000*\"breakfast\" + 0.000*\"erhu\" + 0.000*\"juvenilecomplaint\" + 0.000*\"partiesyellingwhileinthegarage\" + 0.000*\"hisvolunteerworkthatisrequiredofhimforschool\" + 0.000*\"johnstatedthat\" + 0.000*\"appearedtobehighandranoutthebackdoor\" + 0.000*\"johnstatedthathewouldcomplete\" + 0.000*\"hewasgoingtotakexxxtohisaameeting\" + 0.000*\"shefeltthatfilingchargeswasgoingtoruin\"'),\n",
       " (2,\n",
       "  '0.000*\"relatedissue\" + 0.000*\"useofthisapproachhighlightsthe\" + 0.000*\"forlawenforcementagenciesthatreceiveanoverwhelmingnumberofcallsrelate\" + 0.000*\"traumatizedshooterscomefromseverelydysfunctionalhome\" + 0.000*\"tributetomassviolence\" + 0.000*\"twoconsiderationsguidedtheselectionprocessofperpetratorstopresentinthisarticle\" + 0.000*\"uniquetoperpetratorsintheunitedstate\" + 0.000*\"unusualperceptualexperiencesversushallucination\" + 0.000*\"tomakethefindingsasbroadlyrelevantaspossible\" + 0.000*\"violenceandriskassessment\"'),\n",
       " (3,\n",
       "  '0.000*\"oftorts\" + 0.000*\"amongotherthing\" + 0.000*\"socorroindependentschooldistrict\" + 0.000*\"warningsign\" + 0.000*\"reviewdenie\" + 0.000*\"fiveyear\" + 0.000*\"ofagency\" + 0.000*\"lawenforcementandotherscandoorcouldhavedonetopreventthesekindsoftragedie\" + 0.000*\"locatedintacoma\" + 0.000*\"frequentbasis\"')]"
      ]
     },
     "execution_count": 246,
     "metadata": {},
     "output_type": "execute_result"
    }
   ],
   "source": [
    "best_lda_model = lda_models[1]\n",
    "best_lda_model.print_topics()"
   ]
  },
  {
   "cell_type": "markdown",
   "metadata": {},
   "source": [
    "# Next:"
   ]
  },
  {
   "cell_type": "markdown",
   "metadata": {},
   "source": []
  },
  {
   "cell_type": "code",
   "execution_count": null,
   "metadata": {},
   "outputs": [],
   "source": []
  }
 ],
 "metadata": {
  "kernelspec": {
   "display_name": "Python 3",
   "language": "python",
   "name": "python3"
  },
  "language_info": {
   "codemirror_mode": {
    "name": "ipython",
    "version": 3
   },
   "file_extension": ".py",
   "mimetype": "text/x-python",
   "name": "python",
   "nbconvert_exporter": "python",
   "pygments_lexer": "ipython3",
   "version": "3.7.4"
  }
 },
 "nbformat": 4,
 "nbformat_minor": 2
}
